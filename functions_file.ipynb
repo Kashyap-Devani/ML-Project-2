{
 "cells": [
  {
   "cell_type": "code",
   "execution_count": null,
   "id": "10a39d5e",
   "metadata": {},
   "outputs": [],
   "source": [
    "def func1():\n",
    "      print(\"Hello from a first function\")\n"
   ]
  },
  {
   "cell_type": "code",
   "execution_count": null,
   "id": "1256a1db",
   "metadata": {},
   "outputs": [],
   "source": [
    "func1()"
   ]
  },
  {
   "cell_type": "code",
   "execution_count": null,
   "id": "d8ff9f48",
   "metadata": {},
   "outputs": [],
   "source": [
    "func1"
   ]
  },
  {
   "cell_type": "code",
   "execution_count": null,
   "id": "0ba975c2",
   "metadata": {},
   "outputs": [],
   "source": [
    "func1()"
   ]
  },
  {
   "cell_type": "code",
   "execution_count": null,
   "id": "1690140f",
   "metadata": {},
   "outputs": [],
   "source": [
    "def added(a,b):\n",
    "    print(a + b)"
   ]
  },
  {
   "cell_type": "code",
   "execution_count": 7,
   "id": "45856f7a",
   "metadata": {},
   "outputs": [],
   "source": [
    "def adder(a=10,b=5):\n",
    "    m=a+b\n",
    "    c=a*b\n",
    "    print('multi=',c)\n",
    "    print('add=',m)"
   ]
  },
  {
   "cell_type": "code",
   "execution_count": 1,
   "id": "d00ba112",
   "metadata": {},
   "outputs": [],
   "source": [
    "def adder(a,b):\n",
    "    m=a*b\n",
    "    c=a+b\n",
    "    print('multi =',m)\n",
    "    print('add =',c)"
   ]
  },
  {
   "cell_type": "code",
   "execution_count": 2,
   "id": "89700c2e",
   "metadata": {},
   "outputs": [
    {
     "name": "stdout",
     "output_type": "stream",
     "text": [
      "multi = 10\n",
      "add = 7\n"
     ]
    }
   ],
   "source": [
    "adder(2,5)"
   ]
  },
  {
   "cell_type": "code",
   "execution_count": 9,
   "id": "3e7ee5b3",
   "metadata": {},
   "outputs": [
    {
     "name": "stdout",
     "output_type": "stream",
     "text": [
      "multi= 10\n",
      "add= 7\n"
     ]
    }
   ],
   "source": [
    "adder(5,2)"
   ]
  },
  {
   "cell_type": "code",
   "execution_count": null,
   "id": "ce14f51d",
   "metadata": {},
   "outputs": [],
   "source": [
    "added(5,3)"
   ]
  },
  {
   "cell_type": "code",
   "execution_count": null,
   "id": "fbd9ce17",
   "metadata": {},
   "outputs": [],
   "source": []
  },
  {
   "cell_type": "code",
   "execution_count": 10,
   "id": "d3e838da",
   "metadata": {},
   "outputs": [],
   "source": [
    "def multiply (a=5,b=6):\n",
    "    print(a*b)"
   ]
  },
  {
   "cell_type": "code",
   "execution_count": 11,
   "id": "bc7c4125",
   "metadata": {},
   "outputs": [
    {
     "name": "stdout",
     "output_type": "stream",
     "text": [
      "30\n"
     ]
    }
   ],
   "source": [
    "multiply()"
   ]
  },
  {
   "cell_type": "code",
   "execution_count": null,
   "id": "9ce0337a",
   "metadata": {},
   "outputs": [],
   "source": [
    "added(2,3,5)"
   ]
  },
  {
   "cell_type": "code",
   "execution_count": 12,
   "id": "3dfd0db3",
   "metadata": {},
   "outputs": [],
   "source": [
    "def greeting(name):\n",
    "    print(\"Hello\", name)"
   ]
  },
  {
   "cell_type": "code",
   "execution_count": 13,
   "id": "c9b04bbc",
   "metadata": {},
   "outputs": [
    {
     "name": "stdout",
     "output_type": "stream",
     "text": [
      "Hello kashyap\n"
     ]
    }
   ],
   "source": [
    "greeting(\"kashyap\")"
   ]
  },
  {
   "cell_type": "code",
   "execution_count": 14,
   "id": "70b9140f",
   "metadata": {},
   "outputs": [
    {
     "name": "stdout",
     "output_type": "stream",
     "text": [
      "Hello Akash\n"
     ]
    }
   ],
   "source": [
    "greeting(\"Akash\")"
   ]
  },
  {
   "cell_type": "code",
   "execution_count": 15,
   "id": "83593dce",
   "metadata": {},
   "outputs": [
    {
     "name": "stdout",
     "output_type": "stream",
     "text": [
      "Hello Ravi\n"
     ]
    }
   ],
   "source": [
    "greeting(\"Ravi\")"
   ]
  },
  {
   "cell_type": "code",
   "execution_count": 16,
   "id": "d71dbe8d",
   "metadata": {},
   "outputs": [],
   "source": [
    "def splitter(name):\n",
    "    for i in name:\n",
    "        print(i)\n",
    "    "
   ]
  },
  {
   "cell_type": "code",
   "execution_count": 18,
   "id": "dc4985ca",
   "metadata": {},
   "outputs": [
    {
     "name": "stdout",
     "output_type": "stream",
     "text": [
      "K\n",
      "a\n",
      "s\n",
      "h\n",
      "y\n",
      "a\n",
      "p\n"
     ]
    }
   ],
   "source": [
    "splitter(\"Kashyap\")"
   ]
  },
  {
   "cell_type": "code",
   "execution_count": null,
   "id": "9f4e0474",
   "metadata": {},
   "outputs": [],
   "source": [
    "def multiple(*numbers):\n",
    "    print(numbers)  \n",
    "    "
   ]
  },
  {
   "cell_type": "code",
   "execution_count": 65,
   "id": "aea58578",
   "metadata": {},
   "outputs": [],
   "source": [
    "def multi(*c):\n",
    "    a=1\n",
    "    for i in c:\n",
    "        a=a*i\n",
    "    print(a)"
   ]
  },
  {
   "cell_type": "code",
   "execution_count": 66,
   "id": "5ef80561",
   "metadata": {},
   "outputs": [
    {
     "name": "stdout",
     "output_type": "stream",
     "text": [
      "8\n"
     ]
    }
   ],
   "source": [
    "multi(2,2,2)"
   ]
  },
  {
   "cell_type": "code",
   "execution_count": 67,
   "id": "7ce50908",
   "metadata": {},
   "outputs": [],
   "source": [
    "def m(*n):\n",
    "    a=1\n",
    "    for i in n:\n",
    "        a=a*i\n",
    "    print(a)    "
   ]
  },
  {
   "cell_type": "code",
   "execution_count": 12,
   "id": "521f17fc",
   "metadata": {},
   "outputs": [],
   "source": [
    "def ka(*n):\n",
    "    a=1\n",
    "    for i in n:\n",
    "        a=a*i\n",
    "    return a"
   ]
  },
  {
   "cell_type": "code",
   "execution_count": 14,
   "id": "c18d72c5",
   "metadata": {},
   "outputs": [
    {
     "data": {
      "text/plain": [
       "32"
      ]
     },
     "execution_count": 14,
     "metadata": {},
     "output_type": "execute_result"
    }
   ],
   "source": [
    "ka(2,2,2,4)"
   ]
  },
  {
   "cell_type": "code",
   "execution_count": null,
   "id": "937420fd",
   "metadata": {},
   "outputs": [],
   "source": [
    "multiple(5,6,7,5)"
   ]
  },
  {
   "cell_type": "code",
   "execution_count": null,
   "id": "1fdbd6cc",
   "metadata": {},
   "outputs": [],
   "source": [
    "def default(country = \"india\"):\n",
    "      print(\"I am from \" + country)\n"
   ]
  },
  {
   "cell_type": "code",
   "execution_count": null,
   "id": "1703c584",
   "metadata": {},
   "outputs": [],
   "source": [
    "default()"
   ]
  },
  {
   "cell_type": "code",
   "execution_count": null,
   "id": "5fdc9e30",
   "metadata": {},
   "outputs": [],
   "source": [
    "default(\"UAE\")\n",
    "\n"
   ]
  },
  {
   "cell_type": "markdown",
   "id": "2b1a5516",
   "metadata": {},
   "source": [
    "# Return value"
   ]
  },
  {
   "cell_type": "code",
   "execution_count": null,
   "id": "09453344",
   "metadata": {},
   "outputs": [],
   "source": [
    "def return_square(x):\n",
    "      return x * x\n"
   ]
  },
  {
   "cell_type": "code",
   "execution_count": null,
   "id": "6aaf4f0a",
   "metadata": {},
   "outputs": [],
   "source": [
    "return_square(4)"
   ]
  },
  {
   "cell_type": "code",
   "execution_count": 69,
   "id": "8235294f",
   "metadata": {},
   "outputs": [],
   "source": [
    "def return_specific(x):\n",
    "    a = x\n",
    "    b = x * x \n",
    "    c = x * x * x\n",
    "    d = a + b + c \n",
    "    return d,a"
   ]
  },
  {
   "cell_type": "code",
   "execution_count": 70,
   "id": "23cfc4e6",
   "metadata": {},
   "outputs": [
    {
     "data": {
      "text/plain": [
       "(155, 5)"
      ]
     },
     "execution_count": 70,
     "metadata": {},
     "output_type": "execute_result"
    }
   ],
   "source": [
    "return_specific(5)"
   ]
  },
  {
   "cell_type": "code",
   "execution_count": null,
   "id": "9aca82a5",
   "metadata": {},
   "outputs": [],
   "source": [
    "def blankfunction():"
   ]
  },
  {
   "cell_type": "code",
   "execution_count": null,
   "id": "16054d15",
   "metadata": {},
   "outputs": [],
   "source": [
    "def blankfunction():\n",
    "      pass\n"
   ]
  },
  {
   "cell_type": "code",
   "execution_count": null,
   "id": "5ddfa036",
   "metadata": {},
   "outputs": [],
   "source": [
    "blankfunction()"
   ]
  },
  {
   "cell_type": "code",
   "execution_count": null,
   "id": "6f521604",
   "metadata": {},
   "outputs": [],
   "source": [
    "5! = 5 * 4 * 3 * 2 * 1\n",
    "120"
   ]
  },
  {
   "cell_type": "code",
   "execution_count": 73,
   "id": "f04f34d3",
   "metadata": {},
   "outputs": [],
   "source": [
    "def fact1(a):\n",
    "    fact= 1\n",
    "    for i in range(1,a+1):\n",
    "        fact = fact * i\n",
    "    return fact\n",
    "        \n",
    "    \n",
    "        "
   ]
  },
  {
   "cell_type": "code",
   "execution_count": 15,
   "id": "e321d446",
   "metadata": {},
   "outputs": [],
   "source": [
    "def fact1(a):\n",
    "    fact=1\n",
    "    for i in range(1,a+1):\n",
    "        fact = fact * i\n",
    "    return fact    "
   ]
  },
  {
   "cell_type": "code",
   "execution_count": 19,
   "id": "602eef47",
   "metadata": {},
   "outputs": [
    {
     "data": {
      "text/plain": [
       "720"
      ]
     },
     "execution_count": 19,
     "metadata": {},
     "output_type": "execute_result"
    }
   ],
   "source": [
    "kas(6)"
   ]
  },
  {
   "cell_type": "code",
   "execution_count": 18,
   "id": "79b3c9d9",
   "metadata": {},
   "outputs": [],
   "source": [
    "def kas(a):\n",
    "    kp=1\n",
    "    for i in range(1,a+1):\n",
    "        kp=kp*i\n",
    "    return kp    "
   ]
  },
  {
   "cell_type": "code",
   "execution_count": null,
   "id": "3e580f10",
   "metadata": {},
   "outputs": [],
   "source": []
  },
  {
   "cell_type": "code",
   "execution_count": 17,
   "id": "78059ab8",
   "metadata": {},
   "outputs": [
    {
     "data": {
      "text/plain": [
       "24"
      ]
     },
     "execution_count": 17,
     "metadata": {},
     "output_type": "execute_result"
    }
   ],
   "source": [
    "fact1(4)"
   ]
  },
  {
   "cell_type": "code",
   "execution_count": 75,
   "id": "205f3709",
   "metadata": {},
   "outputs": [
    {
     "ename": "SyntaxError",
     "evalue": "cannot assign to expression here. Maybe you meant '==' instead of '='? (130919087.py, line 2)",
     "output_type": "error",
     "traceback": [
      "\u001b[1;36m  Cell \u001b[1;32mIn[75], line 2\u001b[1;36m\u001b[0m\n\u001b[1;33m    1*2=2\u001b[0m\n\u001b[1;37m    ^\u001b[0m\n\u001b[1;31mSyntaxError\u001b[0m\u001b[1;31m:\u001b[0m cannot assign to expression here. Maybe you meant '==' instead of '='?\n"
     ]
    }
   ],
   "source": [
    "1\n",
    "1*2=2\n",
    "2*3=6\n",
    "6*4=24\n",
    "24*5=120"
   ]
  },
  {
   "cell_type": "code",
   "execution_count": 23,
   "id": "bfa53065",
   "metadata": {},
   "outputs": [],
   "source": [
    "def fact1(a):\n",
    "    if a<1:\n",
    "        return 1\n",
    "    else:\n",
    "        return a* fact1(a-1)        "
   ]
  },
  {
   "cell_type": "code",
   "execution_count": 24,
   "id": "79ca3d05",
   "metadata": {},
   "outputs": [
    {
     "data": {
      "text/plain": [
       "120"
      ]
     },
     "execution_count": 24,
     "metadata": {},
     "output_type": "execute_result"
    }
   ],
   "source": [
    "fact1(5)"
   ]
  },
  {
   "cell_type": "code",
   "execution_count": null,
   "id": "ccf8cc7a",
   "metadata": {},
   "outputs": [],
   "source": []
  },
  {
   "cell_type": "code",
   "execution_count": null,
   "id": "eb4b5848",
   "metadata": {},
   "outputs": [],
   "source": []
  },
  {
   "cell_type": "code",
   "execution_count": 26,
   "id": "b524d22c",
   "metadata": {},
   "outputs": [],
   "source": [
    "def fact(x):\n",
    "    if x<1:\n",
    "        return 1\n",
    "    else:\n",
    "        return x* fact(x-1)"
   ]
  },
  {
   "cell_type": "code",
   "execution_count": 27,
   "id": "8a1435b2",
   "metadata": {},
   "outputs": [
    {
     "data": {
      "text/plain": [
       "720"
      ]
     },
     "execution_count": 27,
     "metadata": {},
     "output_type": "execute_result"
    }
   ],
   "source": [
    "fact(6)"
   ]
  },
  {
   "cell_type": "code",
   "execution_count": null,
   "id": "ba82ae0b",
   "metadata": {},
   "outputs": [],
   "source": []
  },
  {
   "cell_type": "code",
   "execution_count": null,
   "id": "8fee59a6",
   "metadata": {},
   "outputs": [],
   "source": []
  },
  {
   "cell_type": "code",
   "execution_count": null,
   "id": "edb16fbc",
   "metadata": {},
   "outputs": [],
   "source": []
  },
  {
   "cell_type": "code",
   "execution_count": null,
   "id": "a0f84bb7",
   "metadata": {},
   "outputs": [],
   "source": []
  },
  {
   "cell_type": "code",
   "execution_count": null,
   "id": "6ecc85b5",
   "metadata": {},
   "outputs": [],
   "source": []
  },
  {
   "cell_type": "code",
   "execution_count": null,
   "id": "bbef4ac5",
   "metadata": {},
   "outputs": [],
   "source": []
  },
  {
   "cell_type": "code",
   "execution_count": null,
   "id": "1b758c09",
   "metadata": {},
   "outputs": [],
   "source": []
  },
  {
   "cell_type": "code",
   "execution_count": null,
   "id": "bf3161c8",
   "metadata": {},
   "outputs": [],
   "source": []
  },
  {
   "cell_type": "markdown",
   "id": "692b0f89",
   "metadata": {},
   "source": [
    "# Recurssive function"
   ]
  },
  {
   "cell_type": "code",
   "execution_count": 87,
   "id": "c0feae6c",
   "metadata": {},
   "outputs": [],
   "source": [
    "def fact(x):\n",
    "    x = int(x)\n",
    "    \n",
    "    if x < 1:\n",
    "        return 1\n",
    "    else:\n",
    "        return x * fact(x-1)\n",
    "\n",
    "    "
   ]
  },
  {
   "cell_type": "code",
   "execution_count": null,
   "id": "9974859a",
   "metadata": {},
   "outputs": [],
   "source": [
    "5 * fact(4)"
   ]
  },
  {
   "cell_type": "code",
   "execution_count": null,
   "id": "a55a1da3",
   "metadata": {},
   "outputs": [],
   "source": [
    "5 * 4 * fact(3)"
   ]
  },
  {
   "cell_type": "code",
   "execution_count": null,
   "id": "afe7aafd",
   "metadata": {},
   "outputs": [],
   "source": [
    "5 * 4 * 3 * fact(2)\n",
    "5 * 4 * 3 * 2 * fact(1)\n",
    "5 * 4 * 3 * 2 * 1"
   ]
  },
  {
   "cell_type": "code",
   "execution_count": 88,
   "id": "711cc32e",
   "metadata": {},
   "outputs": [
    {
     "data": {
      "text/plain": [
       "120"
      ]
     },
     "execution_count": 88,
     "metadata": {},
     "output_type": "execute_result"
    }
   ],
   "source": [
    "fact(5)"
   ]
  },
  {
   "cell_type": "markdown",
   "id": "67ce1bb2",
   "metadata": {},
   "source": [
    "# Lamda Functions"
   ]
  },
  {
   "cell_type": "code",
   "execution_count": 78,
   "id": "916f7872",
   "metadata": {},
   "outputs": [],
   "source": [
    "x = lambda a : a + 10\n",
    "\n"
   ]
  },
  {
   "cell_type": "code",
   "execution_count": null,
   "id": "ac755b3c",
   "metadata": {},
   "outputs": [],
   "source": [
    "print(x(6))"
   ]
  },
  {
   "cell_type": "code",
   "execution_count": 79,
   "id": "3451a20c",
   "metadata": {},
   "outputs": [],
   "source": [
    "x = lambda a, b : a * b\n",
    "\n"
   ]
  },
  {
   "cell_type": "code",
   "execution_count": 80,
   "id": "30ee782d",
   "metadata": {},
   "outputs": [
    {
     "data": {
      "text/plain": [
       "30"
      ]
     },
     "execution_count": 80,
     "metadata": {},
     "output_type": "execute_result"
    }
   ],
   "source": [
    "x(5,6)"
   ]
  },
  {
   "cell_type": "code",
   "execution_count": 81,
   "id": "26cc76b5",
   "metadata": {},
   "outputs": [],
   "source": [
    "x = lambda a : a.lower()\n"
   ]
  },
  {
   "cell_type": "code",
   "execution_count": 82,
   "id": "5c1829a1",
   "metadata": {},
   "outputs": [
    {
     "data": {
      "text/plain": [
       "'kashyap'"
      ]
     },
     "execution_count": 82,
     "metadata": {},
     "output_type": "execute_result"
    }
   ],
   "source": [
    "x(\"KASHYAP\")"
   ]
  },
  {
   "cell_type": "code",
   "execution_count": 83,
   "id": "9523c59d",
   "metadata": {},
   "outputs": [],
   "source": [
    "def lowerfunc(a):\n",
    "    return a.lower()"
   ]
  },
  {
   "cell_type": "code",
   "execution_count": 84,
   "id": "e14bad83",
   "metadata": {},
   "outputs": [
    {
     "data": {
      "text/plain": [
       "'akash'"
      ]
     },
     "execution_count": 84,
     "metadata": {},
     "output_type": "execute_result"
    }
   ],
   "source": [
    "lowerfunc(\"Akash\")"
   ]
  },
  {
   "cell_type": "code",
   "execution_count": null,
   "id": "6f927173",
   "metadata": {},
   "outputs": [],
   "source": []
  }
 ],
 "metadata": {
  "kernelspec": {
   "display_name": "Python 3 (ipykernel)",
   "language": "python",
   "name": "python3"
  },
  "language_info": {
   "codemirror_mode": {
    "name": "ipython",
    "version": 3
   },
   "file_extension": ".py",
   "mimetype": "text/x-python",
   "name": "python",
   "nbconvert_exporter": "python",
   "pygments_lexer": "ipython3",
   "version": "3.10.9"
  }
 },
 "nbformat": 4,
 "nbformat_minor": 5
}
